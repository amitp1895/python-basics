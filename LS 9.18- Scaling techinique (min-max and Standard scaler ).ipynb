{
 "cells": [
  {
   "cell_type": "markdown",
   "metadata": {},
   "source": [
    "# Min-Max scaling "
   ]
  },
  {
   "cell_type": "raw",
   "metadata": {},
   "source": [
    "data Normalization "
   ]
  },
  {
   "cell_type": "raw",
   "metadata": {},
   "source": [
    "In min max scaling the  values are scalled in such a way that the whole data is  fit in between 0 to 1 "
   ]
  },
  {
   "cell_type": "code",
   "execution_count": null,
   "metadata": {},
   "outputs": [],
   "source": []
  },
  {
   "cell_type": "code",
   "execution_count": 4,
   "metadata": {},
   "outputs": [
    {
     "data": {
      "text/plain": [
       "array([[1.000e+03, 2.100e-01],\n",
       "       [8.000e+00, 5.550e-01],\n",
       "       [5.000e+01, 5.557e-01],\n",
       "       [9.999e+03, 1.500e+01]])"
      ]
     },
     "execution_count": 4,
     "metadata": {},
     "output_type": "execute_result"
    }
   ],
   "source": [
    "from numpy import asarray\n",
    "from sklearn.preprocessing import MinMaxScaler \n",
    "data=asarray([[1000,0.21],[8,0.555],[50,0.5557],[9999,15]])\n",
    "data"
   ]
  },
  {
   "cell_type": "code",
   "execution_count": 5,
   "metadata": {},
   "outputs": [
    {
     "data": {
      "text/plain": [
       "array([[0.09928936, 0.        ],\n",
       "       [0.        , 0.02332657],\n",
       "       [0.00420378, 0.0233739 ],\n",
       "       [1.        , 1.        ]])"
      ]
     },
     "execution_count": 5,
     "metadata": {},
     "output_type": "execute_result"
    }
   ],
   "source": [
    "scaler=MinMaxScaler()\n",
    "scaled=scaler.fit_transform(data)\n",
    "scaled"
   ]
  },
  {
   "cell_type": "markdown",
   "metadata": {},
   "source": [
    "# Standard scaler"
   ]
  },
  {
   "cell_type": "raw",
   "metadata": {},
   "source": [
    "data Standardization "
   ]
  },
  {
   "cell_type": "raw",
   "metadata": {},
   "source": [
    "standardizing a dataset involves rescaling the distrubution of values so that the mean of observed values is 0 and standard deviation is 1."
   ]
  },
  {
   "cell_type": "code",
   "execution_count": 6,
   "metadata": {},
   "outputs": [
    {
     "data": {
      "text/plain": [
       "array([[1.000e+03, 2.100e-01],\n",
       "       [8.000e+00, 5.550e-01],\n",
       "       [5.000e+01, 5.557e-01],\n",
       "       [9.999e+03, 1.500e+01]])"
      ]
     },
     "execution_count": 6,
     "metadata": {},
     "output_type": "execute_result"
    }
   ],
   "source": [
    "from sklearn.preprocessing import StandardScaler \n",
    "data1=asarray([[1000,0.21],[8,0.555],[50,0.5557],[9999,15]])\n",
    "data1"
   ]
  },
  {
   "cell_type": "code",
   "execution_count": 9,
   "metadata": {},
   "outputs": [
    {
     "data": {
      "text/plain": [
       "array([[-0.42048209, -0.61371535],\n",
       "       [-0.65691016, -0.55900676],\n",
       "       [-0.6469001 , -0.55889576],\n",
       "       [ 1.72429235,  1.73161787]])"
      ]
     },
     "execution_count": 9,
     "metadata": {},
     "output_type": "execute_result"
    }
   ],
   "source": [
    "scalee=StandardScaler()\n",
    "newdata=scalee.fit_transform(data1)\n",
    "newdata "
   ]
  },
  {
   "cell_type": "code",
   "execution_count": null,
   "metadata": {},
   "outputs": [],
   "source": []
  },
  {
   "cell_type": "code",
   "execution_count": null,
   "metadata": {},
   "outputs": [],
   "source": []
  },
  {
   "cell_type": "code",
   "execution_count": null,
   "metadata": {},
   "outputs": [],
   "source": []
  },
  {
   "cell_type": "code",
   "execution_count": null,
   "metadata": {},
   "outputs": [],
   "source": []
  },
  {
   "cell_type": "code",
   "execution_count": null,
   "metadata": {},
   "outputs": [],
   "source": []
  }
 ],
 "metadata": {
  "kernelspec": {
   "display_name": "Python 3",
   "language": "python",
   "name": "python3"
  },
  "language_info": {
   "codemirror_mode": {
    "name": "ipython",
    "version": 3
   },
   "file_extension": ".py",
   "mimetype": "text/x-python",
   "name": "python",
   "nbconvert_exporter": "python",
   "pygments_lexer": "ipython3",
   "version": "3.8.5"
  }
 },
 "nbformat": 4,
 "nbformat_minor": 4
}
