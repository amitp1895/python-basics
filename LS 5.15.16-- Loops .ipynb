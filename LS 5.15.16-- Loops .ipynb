{
 "cells": [
  {
   "cell_type": "markdown",
   "metadata": {},
   "source": [
    "# LOOPS  (#initilaization , #Condition , #increament / decreament )"
   ]
  },
  {
   "cell_type": "markdown",
   "metadata": {},
   "source": [
    "# While loop "
   ]
  },
  {
   "cell_type": "code",
   "execution_count": 1,
   "metadata": {},
   "outputs": [
    {
     "name": "stdout",
     "output_type": "stream",
     "text": [
      "0\n",
      "1\n",
      "2\n",
      "3\n"
     ]
    }
   ],
   "source": [
    "#initialization\n",
    "i=0\n",
    "#condition\n",
    "while (i<4):\n",
    "    print (i)\n",
    "#increament / decreamnet\n",
    "    i=i+1\n",
    "   "
   ]
  },
  {
   "cell_type": "code",
   "execution_count": 10,
   "metadata": {
    "scrolled": true
   },
   "outputs": [
    {
     "name": "stdout",
     "output_type": "stream",
     "text": [
      "candy\n",
      "candy\n",
      "candy\n",
      "candy\n",
      "candy\n",
      "candy\n",
      "\n",
      " out of stock \n"
     ]
    }
   ],
   "source": [
    "#candy vending \n",
    "i=6 \n",
    "total=6\n",
    "while (i<=total) :\n",
    "    print (\"candy\\n\"*i)\n",
    "    i=i+1\n",
    "print( \" out of stock \")"
   ]
  },
  {
   "cell_type": "code",
   "execution_count": 25,
   "metadata": {},
   "outputs": [
    {
     "name": "stdout",
     "output_type": "stream",
     "text": [
      "0 1 2 3 4 5 6 7 8 9 "
     ]
    }
   ],
   "source": [
    "#single line output \n",
    "a=0 \n",
    "while (a<=9) :\n",
    "    print (a , end=\" \")\n",
    "    a=a+1"
   ]
  },
  {
   "cell_type": "code",
   "execution_count": 26,
   "metadata": {},
   "outputs": [
    {
     "name": "stdout",
     "output_type": "stream",
     "text": [
      "0 6 12 18 24 30 36 42 48 54 60 66 72 78 84 90 96 "
     ]
    }
   ],
   "source": [
    "v=0 \n",
    "while (v<=99) :\n",
    "    print (v , end=\" \")\n",
    "    v=v+6"
   ]
  },
  {
   "cell_type": "code",
   "execution_count": 29,
   "metadata": {},
   "outputs": [
    {
     "name": "stdout",
     "output_type": "stream",
     "text": [
      "100 98 96 94 92 90 88 86 84 82 80 78 76 74 72 70 68 66 64 62 60 58 56 54 52  rest numbers are less than x\n"
     ]
    }
   ],
   "source": [
    "#decreament \n",
    "x=100\n",
    "while (x>50):\n",
    "    print(x , end =\" \")\n",
    "    x=x-2\n",
    "print (\" rest numbers are less than x\")    "
   ]
  },
  {
   "cell_type": "code",
   "execution_count": 50,
   "metadata": {},
   "outputs": [
    {
     "data": {
      "text/plain": [
       "3"
      ]
     },
     "execution_count": 50,
     "metadata": {},
     "output_type": "execute_result"
    }
   ],
   "source": [
    "numbers=[2,3,4,5,6]\n",
    "x=numbers[1]\n",
    "x"
   ]
  },
  {
   "cell_type": "code",
   "execution_count": 55,
   "metadata": {},
   "outputs": [
    {
     "name": "stdout",
     "output_type": "stream",
     "text": [
      "4\n",
      "9\n",
      "16\n",
      "25\n",
      "36\n",
      "4\n",
      "9\n",
      "16\n",
      "25\n",
      "36\n"
     ]
    }
   ],
   "source": [
    "numbers=[2,3,4,5,6]\n",
    "x= numbers[-3]\n",
    "while x<=len(numbers):\n",
    "    for i in numbers :\n",
    "        print(i*i)\n",
    "    x+=1\n",
    "        "
   ]
  },
  {
   "cell_type": "markdown",
   "metadata": {},
   "source": [
    "# Nested while"
   ]
  },
  {
   "cell_type": "code",
   "execution_count": 19,
   "metadata": {},
   "outputs": [
    {
     "name": "stdout",
     "output_type": "stream",
     "text": [
      "0 1st loop \n",
      "2 2nd loop\n",
      "3 2nd loop\n",
      "0 mulitpled\n",
      "1 1st loop \n",
      "2 2nd loop\n",
      "3 2nd loop\n",
      "4 mulitpled\n",
      "2 1st loop \n",
      "2 2nd loop\n",
      "3 2nd loop\n",
      "8 mulitpled\n",
      "3 1st loop \n",
      "2 2nd loop\n",
      "3 2nd loop\n",
      "12 mulitpled\n",
      "4 1st loop \n",
      "2 2nd loop\n",
      "3 2nd loop\n",
      "16 mulitpled\n"
     ]
    }
   ],
   "source": [
    "x=0\n",
    "while x<5 :\n",
    "    print (x ,\"1st loop \")\n",
    "    y=2\n",
    "    while y<=3:\n",
    "        print(y, \"2nd loop\")\n",
    "        y+=1    \n",
    "    print (x*y ,\"mulitpled\")\n",
    "    x+=1"
   ]
  },
  {
   "cell_type": "code",
   "execution_count": 2,
   "metadata": {},
   "outputs": [
    {
     "name": "stdout",
     "output_type": "stream",
     "text": [
      "1 Outer loop is executed only once\n",
      "1 Inner loop is executed until to completion\n",
      "2 Inner loop is executed until to completion\n",
      "3 Inner loop is executed until to completion\n",
      "2 Outer loop is executed only once\n",
      "1 Inner loop is executed until to completion\n",
      "2 Inner loop is executed until to completion\n",
      "3 Inner loop is executed until to completion\n",
      "3 Outer loop is executed only once\n",
      "1 Inner loop is executed until to completion\n",
      "2 Inner loop is executed until to completion\n",
      "3 Inner loop is executed until to completion\n"
     ]
    }
   ],
   "source": [
    "\n",
    "i=1\n",
    "while i<=3 :\n",
    "    print(i,\"Outer loop is executed only once\")\n",
    "    j=1\n",
    "    while j<=3:\n",
    "        print(j,\"Inner loop is executed until to completion\")\n",
    "        j+=1\n",
    "    i+=1;"
   ]
  },
  {
   "cell_type": "markdown",
   "metadata": {},
   "source": [
    "# FOR LOOP"
   ]
  },
  {
   "cell_type": "code",
   "execution_count": 22,
   "metadata": {},
   "outputs": [],
   "source": [
    "#Source values\n",
    "y=[1,2,3,4,5,6,7,8,9,10]"
   ]
  },
  {
   "cell_type": "code",
   "execution_count": 27,
   "metadata": {},
   "outputs": [
    {
     "name": "stdout",
     "output_type": "stream",
     "text": [
      "3 1\n",
      "4 2\n",
      "5 3\n",
      "6 4\n",
      "7 5\n",
      "8 6\n",
      "9 7\n",
      "10 8\n",
      "11 9\n",
      "12 10\n"
     ]
    }
   ],
   "source": [
    "#operation \n",
    "for val in y :\n",
    "    print (val+2 , val )"
   ]
  },
  {
   "cell_type": "code",
   "execution_count": 26,
   "metadata": {},
   "outputs": [
    {
     "name": "stdout",
     "output_type": "stream",
     "text": [
      "1\n",
      "2\n",
      "3\n"
     ]
    }
   ],
   "source": [
    "for i in [1,2,3] :\n",
    "    print (i)"
   ]
  },
  {
   "cell_type": "code",
   "execution_count": 43,
   "metadata": {},
   "outputs": [
    {
     "name": "stdout",
     "output_type": "stream",
     "text": [
      "t a   amit\n",
      "t s   sumit\n",
      "t a   ajit\n",
      "e s   sushree\n",
      "t s   sanjeet\n",
      "end of for loop \n"
     ]
    }
   ],
   "source": [
    "name =(\"amit\",\"sumit\",\"ajit\",\"sushree\",\"sanjeet\")\n",
    "for i in name:\n",
    "    print (i [-1] , i [0] , end =\"   \")\n",
    "    print( i )\n",
    "print( \"end of for loop \")    "
   ]
  },
  {
   "cell_type": "code",
   "execution_count": 1,
   "metadata": {},
   "outputs": [
    {
     "name": "stdout",
     "output_type": "stream",
     "text": [
      "2 4 4\n",
      "5 25 3125\n",
      "8 64 16777216\n",
      "9 81 387420489\n",
      "7 49 823543\n",
      "7 49 823543\n",
      "9 81 387420489\n"
     ]
    }
   ],
   "source": [
    "number =[2,5,8,9,7,7,9]\n",
    "for i in number:\n",
    "    print ( i  , i*i ,i**i)"
   ]
  },
  {
   "cell_type": "code",
   "execution_count": 30,
   "metadata": {},
   "outputs": [
    {
     "name": "stdout",
     "output_type": "stream",
     "text": [
      "0  1  4  9  16  25  36  49  64  81  100  121  144  169  196  225  256  289  324  361  "
     ]
    }
   ],
   "source": [
    "#range function \n",
    "num=range(20)\n",
    "for i in num :\n",
    "    print (i**2 , end =\"  \")"
   ]
  },
  {
   "cell_type": "code",
   "execution_count": 50,
   "metadata": {},
   "outputs": [],
   "source": [
    "xy=list(range (20))"
   ]
  },
  {
   "cell_type": "code",
   "execution_count": 51,
   "metadata": {},
   "outputs": [
    {
     "data": {
      "text/plain": [
       "[0, 1, 2, 3, 4, 5, 6, 7, 8, 9, 10, 11, 12, 13, 14, 15, 16, 17, 18, 19]"
      ]
     },
     "execution_count": 51,
     "metadata": {},
     "output_type": "execute_result"
    }
   ],
   "source": [
    "xy"
   ]
  },
  {
   "cell_type": "code",
   "execution_count": 61,
   "metadata": {},
   "outputs": [
    {
     "name": "stdout",
     "output_type": "stream",
     "text": [
      "0 1 2 3 4 5 6 7 8 9 10 11 12 13 14 15 16 17 18 19 "
     ]
    }
   ],
   "source": [
    "for i in xy :\n",
    "    print (i , end=\" \" )"
   ]
  },
  {
   "cell_type": "code",
   "execution_count": 59,
   "metadata": {},
   "outputs": [
    {
     "name": "stdout",
     "output_type": "stream",
     "text": [
      "2 [4, 9, 16, 36, 81, 49, 64, 81]\n",
      "3 [4, 9, 16, 36, 81, 49, 64, 81]\n",
      "4 [4, 9, 16, 36, 81, 49, 64, 81]\n",
      "6 [4, 9, 16, 36, 81, 49, 64, 81]\n",
      "9 [4, 9, 16, 36, 81, 49, 64, 81]\n",
      "7 [4, 9, 16, 36, 81, 49, 64, 81]\n",
      "8 [4, 9, 16, 36, 81, 49, 64, 81]\n",
      "9 [4, 9, 16, 36, 81, 49, 64, 81]\n"
     ]
    }
   ],
   "source": [
    "numbers=[2,3,4,6,9,7,8,9]\n",
    "\n",
    "for i in numbers:    \n",
    "    squares=[x*x for x in numbers]\n",
    "    print ( i , squares)\n"
   ]
  },
  {
   "cell_type": "code",
   "execution_count": 7,
   "metadata": {},
   "outputs": [
    {
     "name": "stdout",
     "output_type": "stream",
     "text": [
      "1\n",
      "inner loop end \n",
      "2\n",
      "inner loop end \n",
      "3\n",
      "inner loop end \n",
      "end\n",
      "1\n",
      "inner loop end \n",
      "2\n",
      "inner loop end \n",
      "3\n",
      "inner loop end \n",
      "end\n",
      "1\n",
      "inner loop end \n",
      "2\n",
      "inner loop end \n",
      "3\n",
      "inner loop end \n",
      "end\n"
     ]
    }
   ],
   "source": [
    "lis=list(range(3))\n",
    "for i in lis:\n",
    "    for i in lis:\n",
    "        print (i+1)\n",
    "        print(\"inner loop end \")\n",
    "    print(\"end\")"
   ]
  },
  {
   "cell_type": "code",
   "execution_count": null,
   "metadata": {},
   "outputs": [],
   "source": []
  },
  {
   "cell_type": "code",
   "execution_count": null,
   "metadata": {},
   "outputs": [],
   "source": []
  },
  {
   "cell_type": "markdown",
   "metadata": {},
   "source": [
    "range function for value assignantion \n"
   ]
  },
  {
   "cell_type": "code",
   "execution_count": 67,
   "metadata": {},
   "outputs": [
    {
     "data": {
      "text/plain": [
       "[0, 1, 2, 3, 4, 5, 6, 7, 8, 9, 10, 11, 12, 13, 14, 15, 16, 17, 18, 19]"
      ]
     },
     "execution_count": 67,
     "metadata": {},
     "output_type": "execute_result"
    }
   ],
   "source": [
    "#normal range \n",
    "k=list(range(20))\n",
    "k"
   ]
  },
  {
   "cell_type": "code",
   "execution_count": 63,
   "metadata": {},
   "outputs": [
    {
     "data": {
      "text/plain": [
       "[1, 2, 3, 4, 5, 6, 7, 8, 9, 10]"
      ]
     },
     "execution_count": 63,
     "metadata": {},
     "output_type": "execute_result"
    }
   ],
   "source": [
    "#range with start and end \n",
    "m=list(range(1,11))\n",
    "m"
   ]
  },
  {
   "cell_type": "code",
   "execution_count": 65,
   "metadata": {},
   "outputs": [
    {
     "data": {
      "text/plain": [
       "[1, 4, 7, 10, 13, 16, 19, 22]"
      ]
     },
     "execution_count": 65,
     "metadata": {},
     "output_type": "execute_result"
    }
   ],
   "source": [
    "#range with start , end and jump \n",
    "n=list (range (1,25,3))\n",
    "n"
   ]
  },
  {
   "cell_type": "code",
   "execution_count": 4,
   "metadata": {},
   "outputs": [
    {
     "name": "stdout",
     "output_type": "stream",
     "text": [
      "0\n",
      "2\n",
      "4\n",
      "6\n",
      "8\n",
      "10\n",
      "12\n",
      "14\n",
      "16\n",
      "18\n",
      "20\n",
      "22\n",
      "24\n",
      "26\n",
      "28\n",
      " those are all the even  numbers\n"
     ]
    }
   ],
   "source": [
    "ran=range (30)\n",
    "for i in ran:\n",
    "    if i%2==0:\n",
    "        print (i)\n",
    "print (\" those are all the even  numbers\")"
   ]
  },
  {
   "cell_type": "code",
   "execution_count": null,
   "metadata": {},
   "outputs": [],
   "source": []
  },
  {
   "cell_type": "markdown",
   "metadata": {},
   "source": [
    "## Break statement  and continue statement "
   ]
  },
  {
   "cell_type": "markdown",
   "metadata": {},
   "source": [
    "### Break"
   ]
  },
  {
   "cell_type": "code",
   "execution_count": 71,
   "metadata": {},
   "outputs": [
    {
     "name": "stdout",
     "output_type": "stream",
     "text": [
      "1\n",
      "2\n"
     ]
    }
   ],
   "source": [
    "#it breaks the loop and stops iteration\n",
    "for i in [1,2,3,4,5] :\n",
    "    if (i==3):\n",
    "        break\n",
    "    print (i)\n"
   ]
  },
  {
   "cell_type": "markdown",
   "metadata": {},
   "source": [
    "### Continue"
   ]
  },
  {
   "cell_type": "code",
   "execution_count": 72,
   "metadata": {},
   "outputs": [
    {
     "name": "stdout",
     "output_type": "stream",
     "text": [
      "1\n",
      "2\n",
      "4\n",
      "5\n"
     ]
    }
   ],
   "source": [
    "# it skips the iteration in case the statement is  true and continues for the next value \n",
    "for i in [1,2,3,4,5] :\n",
    "    if (i==3):\n",
    "        continue\n",
    "    print (i)\n"
   ]
  },
  {
   "cell_type": "code",
   "execution_count": 82,
   "metadata": {},
   "outputs": [],
   "source": [
    "colours=[\"red\",\"yellow\",'orange',\"White\",\"green\",\"pink\"]\n"
   ]
  },
  {
   "cell_type": "code",
   "execution_count": 83,
   "metadata": {},
   "outputs": [
    {
     "name": "stdout",
     "output_type": "stream",
     "text": [
      "red\n",
      "yellow\n",
      "orange\n",
      "White\n"
     ]
    }
   ],
   "source": [
    "for i in colours :\n",
    "    if (i==\"green\"):\n",
    "        break\n",
    "    print (i)"
   ]
  },
  {
   "cell_type": "code",
   "execution_count": 84,
   "metadata": {},
   "outputs": [
    {
     "name": "stdout",
     "output_type": "stream",
     "text": [
      "red\n",
      "yellow\n",
      "orange\n",
      "green\n",
      "pink\n"
     ]
    }
   ],
   "source": [
    "for i in colours :\n",
    "    if (i==\"White\"):\n",
    "        continue\n",
    "    print (i)"
   ]
  },
  {
   "cell_type": "markdown",
   "metadata": {},
   "source": [
    "### LOOP WITH LIST "
   ]
  },
  {
   "cell_type": "code",
   "execution_count": 88,
   "metadata": {},
   "outputs": [
    {
     "name": "stdout",
     "output_type": "stream",
     "text": [
      "[3, 5, 7, 9, 11, 13, 15, 17, 19, 21, 23]\n"
     ]
    }
   ],
   "source": [
    "\n",
    "S=[]\n",
    "for i in range(3,25,2):\n",
    "    S.append(i)\n",
    "    \n",
    "print(S)"
   ]
  },
  {
   "cell_type": "markdown",
   "metadata": {},
   "source": [
    "### List comprehension "
   ]
  },
  {
   "cell_type": "code",
   "execution_count": 92,
   "metadata": {},
   "outputs": [
    {
     "name": "stdout",
     "output_type": "stream",
     "text": [
      "[1, 2, 3, 4, 5]\n"
     ]
    }
   ],
   "source": [
    "\n",
    "list1=[1,2,3,4,5]\n",
    "m=[d for d in list1] \n",
    "\n",
    "print(m)"
   ]
  },
  {
   "cell_type": "code",
   "execution_count": 93,
   "metadata": {},
   "outputs": [
    {
     "name": "stdout",
     "output_type": "stream",
     "text": [
      "[10, 20, 22, 80]\n"
     ]
    }
   ],
   "source": [
    "#specific comprehension for sepecific data \n",
    "list2=[10,11,20,22,25,11,245,65,80]\n",
    "n=[d for d in list2 if d%2==0] \n",
    "\n",
    "print(n)"
   ]
  },
  {
   "cell_type": "markdown",
   "metadata": {},
   "source": [
    "### Mutated vale of one list in another list "
   ]
  },
  {
   "cell_type": "code",
   "execution_count": 13,
   "metadata": {},
   "outputs": [
    {
     "name": "stdout",
     "output_type": "stream",
     "text": [
      "[27, 28, 28, 28, 29, 29]\n"
     ]
    }
   ],
   "source": [
    "\n",
    "list11=[55,56,56,57,58,59]\n",
    "list12=[ x//2 for  x in list11]\n",
    "print(list12)"
   ]
  },
  {
   "cell_type": "code",
   "execution_count": 14,
   "metadata": {},
   "outputs": [
    {
     "data": {
      "text/plain": [
       "[55, 56, 56, 57, 58, 59]"
      ]
     },
     "execution_count": 14,
     "metadata": {},
     "output_type": "execute_result"
    }
   ],
   "source": [
    "list11"
   ]
  },
  {
   "cell_type": "code",
   "execution_count": 15,
   "metadata": {},
   "outputs": [
    {
     "data": {
      "text/plain": [
       "[27, 28, 28, 28, 29, 29]"
      ]
     },
     "execution_count": 15,
     "metadata": {},
     "output_type": "execute_result"
    }
   ],
   "source": [
    "list12"
   ]
  },
  {
   "cell_type": "markdown",
   "metadata": {},
   "source": [
    "### LOOP WITH DICTIONARY "
   ]
  },
  {
   "cell_type": "code",
   "execution_count": 1,
   "metadata": {},
   "outputs": [
    {
     "name": "stdout",
     "output_type": "stream",
     "text": [
      "1 2 3 4 5 "
     ]
    }
   ],
   "source": [
    "d={1:\"air\",2:\"Water\",3:\"earth\",4:\"space\",5:\"fire\"}\n",
    "for k in d:\n",
    "    print(k , end=\" \")"
   ]
  },
  {
   "cell_type": "code",
   "execution_count": 2,
   "metadata": {},
   "outputs": [
    {
     "name": "stdout",
     "output_type": "stream",
     "text": [
      "air Water earth space fire "
     ]
    }
   ],
   "source": [
    "for k in d:\n",
    "    print (d[k] , end=\" \")"
   ]
  },
  {
   "cell_type": "code",
   "execution_count": 28,
   "metadata": {},
   "outputs": [
    {
     "name": "stdout",
     "output_type": "stream",
     "text": [
      "amit\n",
      "Bhagwati\n",
      "mohan\n",
      "utthu\n",
      "punn\n"
     ]
    }
   ],
   "source": [
    "#Viewing salary with exception as continue \n",
    "sal={\"amit\":\"18\", \"Bhagwati\":\"25\",\"anbu\":\"42\",\"mohan\":\"50\" ,\"utthu\":\"75\",\"punn\":\"65\",\"Srg\":\"326\"}\n",
    "for k in sal:\n",
    "    if (sal[k]==\"326\" or sal[k]==\"42\"):\n",
    "        continue\n",
    "    print (k)\n",
    "    "
   ]
  },
  {
   "cell_type": "code",
   "execution_count": 11,
   "metadata": {},
   "outputs": [
    {
     "name": "stdout",
     "output_type": "stream",
     "text": [
      "amit\n",
      "Bhagwati\n",
      "anbu\n",
      "mohan\n"
     ]
    }
   ],
   "source": [
    "#Viewing salary with exception as break\n",
    "sal={\"amit\":\"18\", \"Bhagwati\":\"25\",\"anbu\":\"42\",\"mohan\":\"50\" ,\"utthu\":\"75\",\"punn\":\"65\",\"Srg\":\"326\"}\n",
    "for k in sal:\n",
    "    if (sal[k]==\"326\" or sal[k]==\"75\"):\n",
    "        break\n",
    "    print (k)\n",
    "    "
   ]
  },
  {
   "cell_type": "markdown",
   "metadata": {},
   "source": [
    "# STRING FUNCTIONS"
   ]
  },
  {
   "cell_type": "code",
   "execution_count": 111,
   "metadata": {},
   "outputs": [],
   "source": [
    "word=\"my name is Amit patel\""
   ]
  },
  {
   "cell_type": "code",
   "execution_count": 112,
   "metadata": {},
   "outputs": [],
   "source": [
    "word1=\"123456\""
   ]
  },
  {
   "cell_type": "code",
   "execution_count": 113,
   "metadata": {},
   "outputs": [
    {
     "data": {
      "text/plain": [
       "'my name is amit patel'"
      ]
     },
     "execution_count": 113,
     "metadata": {},
     "output_type": "execute_result"
    }
   ],
   "source": [
    "word.lower()"
   ]
  },
  {
   "cell_type": "code",
   "execution_count": 114,
   "metadata": {},
   "outputs": [
    {
     "data": {
      "text/plain": [
       "'MY NAME IS AMIT PATEL'"
      ]
     },
     "execution_count": 114,
     "metadata": {},
     "output_type": "execute_result"
    }
   ],
   "source": [
    "word.upper()"
   ]
  },
  {
   "cell_type": "code",
   "execution_count": 115,
   "metadata": {},
   "outputs": [
    {
     "data": {
      "text/plain": [
       "False"
      ]
     },
     "execution_count": 115,
     "metadata": {},
     "output_type": "execute_result"
    }
   ],
   "source": [
    "word.islower()"
   ]
  },
  {
   "cell_type": "code",
   "execution_count": 116,
   "metadata": {},
   "outputs": [
    {
     "data": {
      "text/plain": [
       "False"
      ]
     },
     "execution_count": 116,
     "metadata": {},
     "output_type": "execute_result"
    }
   ],
   "source": [
    "word.isupper()"
   ]
  },
  {
   "cell_type": "code",
   "execution_count": 119,
   "metadata": {},
   "outputs": [],
   "source": [
    "city=\"pune\""
   ]
  },
  {
   "cell_type": "code",
   "execution_count": 120,
   "metadata": {},
   "outputs": [
    {
     "data": {
      "text/plain": [
       "True"
      ]
     },
     "execution_count": 120,
     "metadata": {},
     "output_type": "execute_result"
    }
   ],
   "source": [
    "city.isalpha()"
   ]
  },
  {
   "cell_type": "code",
   "execution_count": 121,
   "metadata": {},
   "outputs": [
    {
     "data": {
      "text/plain": [
       "True"
      ]
     },
     "execution_count": 121,
     "metadata": {},
     "output_type": "execute_result"
    }
   ],
   "source": [
    "word1.isnumeric()"
   ]
  },
  {
   "cell_type": "code",
   "execution_count": 122,
   "metadata": {},
   "outputs": [
    {
     "data": {
      "text/plain": [
       "False"
      ]
     },
     "execution_count": 122,
     "metadata": {},
     "output_type": "execute_result"
    }
   ],
   "source": [
    "word1.isalpha()"
   ]
  },
  {
   "cell_type": "code",
   "execution_count": 123,
   "metadata": {},
   "outputs": [
    {
     "data": {
      "text/plain": [
       "'Pune'"
      ]
     },
     "execution_count": 123,
     "metadata": {},
     "output_type": "execute_result"
    }
   ],
   "source": [
    "city.capitalize()"
   ]
  },
  {
   "cell_type": "code",
   "execution_count": 8,
   "metadata": {},
   "outputs": [
    {
     "name": "stdout",
     "output_type": "stream",
     "text": [
      " words are matching \n"
     ]
    }
   ],
   "source": [
    "col1=\"red\"\n",
    "col2=\"ReD\"\n",
    "if col1.casefold()==col2.casefold() :\n",
    "    print (\" words are matching \")\n",
    "else:\n",
    "    print(\" words are not matching \")"
   ]
  },
  {
   "cell_type": "code",
   "execution_count": 10,
   "metadata": {},
   "outputs": [
    {
     "data": {
      "text/plain": [
       "True"
      ]
     },
     "execution_count": 10,
     "metadata": {},
     "output_type": "execute_result"
    }
   ],
   "source": [
    "col1=\"red\"\n",
    "col2=\"ReD\"\n",
    "col1.casefold()==col2.casefold()"
   ]
  },
  {
   "cell_type": "code",
   "execution_count": null,
   "metadata": {},
   "outputs": [],
   "source": []
  }
 ],
 "metadata": {
  "kernelspec": {
   "display_name": "Python 3",
   "language": "python",
   "name": "python3"
  },
  "language_info": {
   "codemirror_mode": {
    "name": "ipython",
    "version": 3
   },
   "file_extension": ".py",
   "mimetype": "text/x-python",
   "name": "python",
   "nbconvert_exporter": "python",
   "pygments_lexer": "ipython3",
   "version": "3.8.5"
  }
 },
 "nbformat": 4,
 "nbformat_minor": 4
}
