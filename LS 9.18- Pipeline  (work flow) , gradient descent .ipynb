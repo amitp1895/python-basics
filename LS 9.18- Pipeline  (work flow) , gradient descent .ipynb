{
 "cells": [
  {
   "cell_type": "markdown",
   "metadata": {},
   "source": [
    "# Gradient descent and ppipe line "
   ]
  },
  {
   "cell_type": "code",
   "execution_count": 4,
   "metadata": {},
   "outputs": [
    {
     "name": "stdout",
     "output_type": "stream",
     "text": [
      "SGDRegressor: 0.497145 (0.247982)\n"
     ]
    }
   ],
   "source": [
    "from sklearn import linear_model\n",
    "from sklearn.datasets import load_boston\n",
    "from sklearn.linear_model import SGDRegressor\n",
    "\n",
    "from sklearn.decomposition import PCA\n",
    "from sklearn.preprocessing import StandardScaler\n",
    "from sklearn.model_selection import cross_val_score\n",
    "from sklearn.metrics import r2_score , mean_squared_error\n",
    "from sklearn.pipeline import  Pipeline\n",
    "\n",
    "import warnings\n",
    "warnings.filterwarnings('ignore')\n",
    "\n",
    "import numpy as np \n",
    "import pandas as pd \n",
    "\n",
    "#load the data \n",
    "X=load_boston()\n",
    "data=pd.DataFrame(X.data,columns=X.feature_names)\n",
    "Y=X.target \n",
    "\n",
    "#creating a model \n",
    "pipe=[]\n",
    "pipe.append((\"SC\",StandardScaler()))\n",
    "pipe.append((\"PCA\",PCA(n_components=8)))\n",
    "pipe.append((\"SGD\",SGDRegressor(alpha=0.1,learning_rate=\"optimal\",max_iter=400,penalty=\"l2\")))\n",
    "model=Pipeline(pipe)\n",
    "\n",
    "#cross validation  score \n",
    "cv_results=cross_val_score(model,data,Y,cv=5)\n",
    "msg=\"%s: %f (%f)\" % ('SGDRegressor',cv_results.mean(),cv_results.std())\n",
    "print(msg)"
   ]
  },
  {
   "cell_type": "code",
   "execution_count": 5,
   "metadata": {},
   "outputs": [
    {
     "name": "stdout",
     "output_type": "stream",
     "text": [
      "SGDRegressor: 0.840000 (0.114310)\n"
     ]
    }
   ],
   "source": [
    "from sklearn.linear_model import SGDClassifier \n",
    "from sklearn.datasets import load_iris\n",
    "\n",
    "X=load_iris()\n",
    "data=pd.DataFrame(X.data,columns=X.feature_names)\n",
    "Y=X.target\n",
    "\n",
    "#creating A model \n",
    "model=SGDClassifier()\n",
    "\n",
    "#cross validation \n",
    "cv_results=cross_val_score(model,data,Y,cv=5)\n",
    "msg=\"%s: %f (%f)\" % ('SGDRegressor',cv_results.mean(),cv_results.std())\n",
    "print(msg)"
   ]
  },
  {
   "cell_type": "code",
   "execution_count": 7,
   "metadata": {},
   "outputs": [
    {
     "data": {
      "text/plain": [
       "array([0.9       , 0.93333333, 0.63333333, 0.8       , 0.93333333])"
      ]
     },
     "execution_count": 7,
     "metadata": {},
     "output_type": "execute_result"
    }
   ],
   "source": [
    "cv_results\n"
   ]
  },
  {
   "cell_type": "code",
   "execution_count": null,
   "metadata": {},
   "outputs": [],
   "source": []
  },
  {
   "cell_type": "code",
   "execution_count": null,
   "metadata": {},
   "outputs": [],
   "source": []
  },
  {
   "cell_type": "raw",
   "metadata": {},
   "source": []
  },
  {
   "cell_type": "code",
   "execution_count": null,
   "metadata": {},
   "outputs": [],
   "source": []
  },
  {
   "cell_type": "code",
   "execution_count": null,
   "metadata": {},
   "outputs": [],
   "source": []
  }
 ],
 "metadata": {
  "kernelspec": {
   "display_name": "Python 3",
   "language": "python",
   "name": "python3"
  },
  "language_info": {
   "codemirror_mode": {
    "name": "ipython",
    "version": 3
   },
   "file_extension": ".py",
   "mimetype": "text/x-python",
   "name": "python",
   "nbconvert_exporter": "python",
   "pygments_lexer": "ipython3",
   "version": "3.8.5"
  }
 },
 "nbformat": 4,
 "nbformat_minor": 4
}
