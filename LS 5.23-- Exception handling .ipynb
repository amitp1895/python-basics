{
 "cells": [
  {
   "cell_type": "markdown",
   "metadata": {},
   "source": [
    "# Exception handling  //// Also known as error handling "
   ]
  },
  {
   "cell_type": "code",
   "execution_count": null,
   "metadata": {},
   "outputs": [],
   "source": [
    "name =\"ami"
   ]
  },
  {
   "cell_type": "code",
   "execution_count": null,
   "metadata": {},
   "outputs": [],
   "source": [
    "try :\n",
    "    print (name)\n",
    "except NameError :\n",
    "    print ( \" you ran into a NameError: EOL\")\n",
    "    name=input(\"type name again---\")  # ireesepective of above name assignment , this line will asign a value to name \n",
    "finally :\n",
    "    print( \"fanally executed \")"
   ]
  },
  {
   "cell_type": "markdown",
   "metadata": {},
   "source": [
    "# >>>>>>>>>>>>>>>>>>>>>>>>>>>>>>>>>>>>>>>>>>>>>>>>>>>>>>>>>>>>>"
   ]
  },
  {
   "cell_type": "code",
   "execution_count": null,
   "metadata": {},
   "outputs": [],
   "source": [
    "def multib():\n",
    "    try :\n",
    "        x=int(input(\"enter the number \"))\n",
    "        y=int(input(\"enter the 2nd number \"))\n",
    "        print(x*y) \n",
    "    except ValueError:\n",
    "        x=int(input(\" >>enter the number AGAIN  \"))          #this line gives a 2n chance to enter the x value \n",
    "        y=int(input(\" >>enter the 2nd number AGAIN  \"))       #this line gives a 2n chance to enter the y value\n",
    "        print(\"multiplication is =\",x*y) \n",
    "    finally :\n",
    "        print (\"finnaly executed \")\n",
    "\n",
    "    "
   ]
  },
  {
   "cell_type": "code",
   "execution_count": null,
   "metadata": {},
   "outputs": [],
   "source": [
    "multib()"
   ]
  },
  {
   "cell_type": "markdown",
   "metadata": {},
   "source": [
    "# >>>>>>>>>>>>>>>>>>>>>>>>>>>>>>>>>>>>>>>>>>>>>>>>>>>>>>>>>>>>>"
   ]
  },
  {
   "cell_type": "markdown",
   "metadata": {},
   "source": [
    "For a continuous checking  .  loop can be used with error handling "
   ]
  },
  {
   "cell_type": "code",
   "execution_count": null,
   "metadata": {},
   "outputs": [],
   "source": [
    "def mul():\n",
    "    while True :\n",
    "        try :\n",
    "            val=int(input(\"type the number \"))          \n",
    "        except :\n",
    "            print(\"you havent given an integer\")\n",
    "            continue\n",
    "        else :\n",
    "            print(\"thats an integer\" , end=\" \")\n",
    "            print( val*8 )\n",
    "            break\n",
    "        finally :\n",
    "            print(\" finally executed \")\n",
    "            \n",
    "\n"
   ]
  },
  {
   "cell_type": "code",
   "execution_count": null,
   "metadata": {},
   "outputs": [],
   "source": [
    "mul()"
   ]
  },
  {
   "cell_type": "markdown",
   "metadata": {},
   "source": [
    "# >>>>>>>>>>>>>>>>>>>>>>>>>>>>>>>>>>>>>>>>>>>>>>>>>>>>>>>>>>>>>"
   ]
  },
  {
   "cell_type": "code",
   "execution_count": null,
   "metadata": {},
   "outputs": [],
   "source": [
    "def cand():\n",
    "    while True:\n",
    "        try:\n",
    "            x=int(input(\"number\"))\n",
    "        except:\n",
    "            print(\"thas not a number\")\n",
    "            continue\n",
    "        else:\n",
    "            print(\"candy \"*x, end= \"\\n\")\n",
    "        finally:\n",
    "            print(\"finally called \")\n",
    "            \n",
    "        \n",
    "            "
   ]
  },
  {
   "cell_type": "code",
   "execution_count": null,
   "metadata": {},
   "outputs": [],
   "source": [
    "cand()"
   ]
  },
  {
   "cell_type": "code",
   "execution_count": null,
   "metadata": {},
   "outputs": [],
   "source": []
  },
  {
   "cell_type": "code",
   "execution_count": null,
   "metadata": {},
   "outputs": [],
   "source": []
  },
  {
   "cell_type": "code",
   "execution_count": null,
   "metadata": {},
   "outputs": [],
   "source": []
  }
 ],
 "metadata": {
  "kernelspec": {
   "display_name": "Python 3",
   "language": "python",
   "name": "python3"
  },
  "language_info": {
   "codemirror_mode": {
    "name": "ipython",
    "version": 3
   },
   "file_extension": ".py",
   "mimetype": "text/x-python",
   "name": "python",
   "nbconvert_exporter": "python",
   "pygments_lexer": "ipython3",
   "version": "3.8.5"
  }
 },
 "nbformat": 4,
 "nbformat_minor": 4
}
