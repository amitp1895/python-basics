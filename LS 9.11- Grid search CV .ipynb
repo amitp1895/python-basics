{
 "cells": [
  {
   "cell_type": "markdown",
   "metadata": {},
   "source": [
    "# Tuning the model: Hyperparameter tuning: gridsearchCV "
   ]
  },
  {
   "cell_type": "code",
   "execution_count": 1,
   "metadata": {},
   "outputs": [
    {
     "name": "stdout",
     "output_type": "stream",
     "text": [
      "GridSearchCV(estimator=Ridge(),\n",
      "             param_grid={'alpha': [1, 0.1, 0.01, 0.001, 0.0001, 0]})\n",
      "0.4823231384163485\n",
      "0.0001\n",
      "{'alpha': 0.0001}\n"
     ]
    }
   ],
   "source": [
    "import numpy as np \n",
    "from sklearn import datasets \n",
    "from sklearn.linear_model import Ridge\n",
    "from sklearn.model_selection import GridSearchCV \n",
    "\n",
    "import warnings\n",
    "warnings.filterwarnings('ignore')\n",
    "\n",
    "#load the diabetes datasets \n",
    "dataset=datasets.load_diabetes()\n",
    "\n",
    "#preparea range of alpha values to test\n",
    "#alphas=np.array ([1,0.1,0.01,0.001,0.0001,0])\n",
    "alphavalue={'alpha':[1,0.1,0.01,0.001,0.0001,0]}\n",
    "\n",
    "#create and fit a ridge regression model,testing each alpha\n",
    "model=Ridge()\n",
    "\n",
    "#grid=GridSearchCV(estimator=model, param_grid=dict(alpha=alphas))\n",
    "grid=GridSearchCV(estimator=model,param_grid=alphavalue)\n",
    "\n",
    "grid.fit(dataset.data,dataset.target)\n",
    "print(grid)\n",
    "\n",
    "#summerize the resul  of grid search CV\n",
    "print(grid.best_score_)\n",
    "print(grid.best_estimator_.alpha)\n",
    "print(grid.best_params_)"
   ]
  },
  {
   "cell_type": "code",
   "execution_count": 2,
   "metadata": {},
   "outputs": [
    {
     "name": "stdout",
     "output_type": "stream",
     "text": [
      "score 0.5177494254132934\n",
      "[  -9.96228958 -239.74191297  519.90178223  324.33049163 -783.36918479\n",
      "  469.75119728   97.15076946  176.00399634  747.93655335   67.6781432 ]\n",
      "score 0.5177489195463592\n"
     ]
    }
   ],
   "source": [
    "from sklearn.linear_model import LinearRegression ,Lasso ,Ridge\n",
    "from sklearn import datasets \n",
    "from sklearn.model_selection import GridSearchCV\n",
    "\n",
    "ds=datasets.load_diabetes()\n",
    "x=ds.data\n",
    "y=ds.target \n",
    "\n",
    "lr=LinearRegression()\n",
    "lr.fit(x,y)\n",
    "print(\"score\",lr.score(x,y))\n",
    "\n",
    "rd=Ridge(alpha=.0001)\n",
    "rd.fit(x,y)\n",
    "print(rd.coef_)\n",
    "print(\"score\",rd.score(x,y))"
   ]
  },
  {
   "cell_type": "code",
   "execution_count": 5,
   "metadata": {},
   "outputs": [
    {
     "data": {
      "text/plain": [
       "GridSearchCV(estimator=SVC(),\n",
       "             param_grid={'C': [1, 10], 'kernel': ['rbf', 'linear', 'poly']})"
      ]
     },
     "execution_count": 5,
     "metadata": {},
     "output_type": "execute_result"
    }
   ],
   "source": [
    "from sklearn import datasets,svm\n",
    "from sklearn.model_selection import GridSearchCV \n",
    "iris=datasets.load_iris()\n",
    "parameters={\"kernel\":[\"rbf\",\"linear\",\"poly\"],\"C\":[1,10]}\n",
    "svc=svm.SVC()\n",
    "clf=GridSearchCV(svc,parameters) #making the instance \n",
    "clf.fit(iris.data,iris.target)\n",
    "\n",
    "clf"
   ]
  },
  {
   "cell_type": "code",
   "execution_count": 9,
   "metadata": {},
   "outputs": [
    {
     "name": "stdout",
     "output_type": "stream",
     "text": [
      "{'C': 1, 'kernel': 'linear'}\n"
     ]
    }
   ],
   "source": [
    "print(clf.best_params_)"
   ]
  },
  {
   "cell_type": "code",
   "execution_count": 10,
   "metadata": {},
   "outputs": [
    {
     "name": "stdout",
     "output_type": "stream",
     "text": [
      "0.99\n"
     ]
    }
   ],
   "source": [
    "sv=svm.SVC(kernel=\"linear\",C=1)\n",
    "sv.fit(iris.data,iris.target)\n",
    "t=sv.score(iris.data,iris.target)\n",
    "print(round(t,2))\n"
   ]
  },
  {
   "cell_type": "code",
   "execution_count": null,
   "metadata": {},
   "outputs": [],
   "source": []
  },
  {
   "cell_type": "code",
   "execution_count": null,
   "metadata": {},
   "outputs": [],
   "source": []
  }
 ],
 "metadata": {
  "kernelspec": {
   "display_name": "Python 3",
   "language": "python",
   "name": "python3"
  },
  "language_info": {
   "codemirror_mode": {
    "name": "ipython",
    "version": 3
   },
   "file_extension": ".py",
   "mimetype": "text/x-python",
   "name": "python",
   "nbconvert_exporter": "python",
   "pygments_lexer": "ipython3",
   "version": "3.8.5"
  }
 },
 "nbformat": 4,
 "nbformat_minor": 4
}
