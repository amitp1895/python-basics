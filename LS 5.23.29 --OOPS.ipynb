{
 "cells": [
  {
   "cell_type": "markdown",
   "metadata": {},
   "source": [
    "# OOPS"
   ]
  },
  {
   "cell_type": "markdown",
   "metadata": {},
   "source": [
    "### CLASS in Python"
   ]
  },
  {
   "cell_type": "markdown",
   "metadata": {},
   "source": [
    "The basic objective behind oops is to combine the data and associated \n",
    "procedures (methods) into a single unit which operaate on the data .such a unit is called an object"
   ]
  },
  {
   "cell_type": "code",
   "execution_count": 1,
   "metadata": {},
   "outputs": [],
   "source": [
    "class car :\n",
    " #attribute \n",
    "    year=2020\n",
    "    kmpl=22\n",
    "    speed=100\n",
    "    \n",
    " #Method\n",
    "    def accelarate(self):\n",
    "        return car.speed+60\n",
    "    def  brake(self):\n",
    "        return car.speed-80\n",
    "    \n",
    "    "
   ]
  },
  {
   "cell_type": "code",
   "execution_count": 2,
   "metadata": {},
   "outputs": [
    {
     "data": {
      "text/plain": [
       "160"
      ]
     },
     "execution_count": 2,
     "metadata": {},
     "output_type": "execute_result"
    }
   ],
   "source": [
    "#instances / object\n",
    "car1=car()\n",
    "car1.accelarate()"
   ]
  },
  {
   "cell_type": "code",
   "execution_count": 3,
   "metadata": {},
   "outputs": [
    {
     "data": {
      "text/plain": [
       "20"
      ]
     },
     "execution_count": 3,
     "metadata": {},
     "output_type": "execute_result"
    }
   ],
   "source": [
    "car1=car()\n",
    "car1.brake()"
   ]
  },
  {
   "cell_type": "code",
   "execution_count": 4,
   "metadata": {},
   "outputs": [
    {
     "name": "stdout",
     "output_type": "stream",
     "text": [
      "100\n",
      "2020\n",
      "22\n"
     ]
    }
   ],
   "source": [
    "print (car1.speed)\n",
    "print (car1.year)\n",
    "print (car1.kmpl)"
   ]
  },
  {
   "cell_type": "code",
   "execution_count": 5,
   "metadata": {},
   "outputs": [
    {
     "data": {
      "text/plain": [
       "160"
      ]
     },
     "execution_count": 5,
     "metadata": {},
     "output_type": "execute_result"
    }
   ],
   "source": [
    "car2=car()\n",
    "car2.accelarate()"
   ]
  },
  {
   "cell_type": "code",
   "execution_count": 6,
   "metadata": {},
   "outputs": [
    {
     "name": "stdout",
     "output_type": "stream",
     "text": [
      "2025\n"
     ]
    }
   ],
   "source": [
    "car2=car()\n",
    "print (car2.year+5)"
   ]
  },
  {
   "cell_type": "markdown",
   "metadata": {},
   "source": [
    "### Professional way of writing Class function"
   ]
  },
  {
   "cell_type": "code",
   "execution_count": 7,
   "metadata": {},
   "outputs": [
    {
     "name": "stdout",
     "output_type": "stream",
     "text": [
      "100\n",
      "5.5\n",
      "This is one guy from my class\n"
     ]
    }
   ],
   "source": [
    "class myclass:\n",
    "    age=100\n",
    "    height=5.5\n",
    "    def testf(self):\n",
    "        print (\"This is one guy from my class\")\n",
    "        \n",
    "def main():\n",
    "    men=myclass()#creating object / instance \n",
    "    #calling attribute with member function \n",
    "    print(men.age)\n",
    "    print(men.height)\n",
    "    men.testf()\n",
    "    \n",
    "if __name__==\"__main__\":\n",
    "    main()\n",
    "    \n",
    "\n",
    "        "
   ]
  },
  {
   "cell_type": "markdown",
   "metadata": {},
   "source": [
    "# \"_ _ _init_ _ _\"   method "
   ]
  },
  {
   "cell_type": "code",
   "execution_count": 8,
   "metadata": {},
   "outputs": [
    {
     "name": "stdout",
     "output_type": "stream",
     "text": [
      "hp red 8 is the configuration \n",
      "dell yellow 8 is the configuration \n",
      "lenovo Black 8 is the configuration \n"
     ]
    }
   ],
   "source": [
    "#create the class \n",
    "class computer :\n",
    "#mention the initialization  ( also known as the CONSTRUCTOR FUNCTION)            \n",
    "    def __init__(self,brand,colour,ram):\n",
    "        self.brand=brand \n",
    "        self.colour=colour\n",
    "        self.ram=ram\n",
    "#(optional) define the common function  for the instances         \n",
    "    def config(self):\n",
    "        print ( self.brand,self.colour ,self.ram, \"is the configuration \")   \n",
    "        \n",
    "com1=computer('hp',\"red\" ,8)\n",
    "com1.config()\n",
    "com2=computer(\"dell\",\"yellow\",8)\n",
    "com2.config()\n",
    "com3=computer(\"lenovo\", \"Black\",8)\n",
    "com3.config()\n"
   ]
  },
  {
   "cell_type": "code",
   "execution_count": 9,
   "metadata": {},
   "outputs": [
    {
     "name": "stdout",
     "output_type": "stream",
     "text": [
      "alienware  RGB 16 is the configuration \n"
     ]
    }
   ],
   "source": [
    "com4=computer (\"alienware \",\"RGB\",16)\n",
    "com4.config()"
   ]
  },
  {
   "cell_type": "markdown",
   "metadata": {},
   "source": [
    "# >>>>>>>>>>>>>>>>>>>>>>>>>>>>>>>>>>>>>>>>>>>>>>>>>>>>>>>>>>>>\n"
   ]
  },
  {
   "cell_type": "code",
   "execution_count": 10,
   "metadata": {},
   "outputs": [
    {
     "name": "stdout",
     "output_type": "stream",
     "text": [
      "amit 26 227223\n"
     ]
    }
   ],
   "source": [
    "class student ():\n",
    "    def __init__(self,name,age,ID):\n",
    "        self.name=name \n",
    "        self.age=age\n",
    "        self.ID=ID\n",
    "\n",
    "stu1=student(\"amit\",26,227223)\n",
    "print(stu1.name ,stu1.age,stu1.ID)"
   ]
  },
  {
   "cell_type": "code",
   "execution_count": 11,
   "metadata": {},
   "outputs": [
    {
     "name": "stdout",
     "output_type": "stream",
     "text": [
      "inside dispaly fnction\n",
      "guru 25 13.5 Maint\n"
     ]
    }
   ],
   "source": [
    "class employee():\n",
    "    def __init__(self,name,age,salary,dept):\n",
    "        #provide the self variable         \n",
    "        self.name=name \n",
    "        self.age=age\n",
    "        self.salary=salary\n",
    "        self.dept=dept\n",
    "    \n",
    "    def display (self):\n",
    "        print (\"inside dispaly fnction\")\n",
    "        print (self.name,self.age,self.salary,self.dept)\n",
    "        \n",
    "#create instance         \n",
    "emp1=employee (\"guru\",25,13.5,\"Maint\")\n",
    "#call the function / Access class variable \n",
    "emp1.display()"
   ]
  },
  {
   "cell_type": "markdown",
   "metadata": {},
   "source": [
    "# Creating class variable "
   ]
  },
  {
   "cell_type": "code",
   "execution_count": 12,
   "metadata": {},
   "outputs": [
    {
     "name": "stdout",
     "output_type": "stream",
     "text": [
      "mainteance  30 bay-1\n",
      "Production  100 bay-11\n"
     ]
    },
    {
     "data": {
      "text/plain": [
       "360000"
      ]
     },
     "execution_count": 12,
     "metadata": {},
     "output_type": "execute_result"
    }
   ],
   "source": [
    "class department ():\n",
    "    monthly_exp=360000\n",
    "\n",
    "    def __init__ (self,name,dept_epm_count,location):\n",
    "        self.name=name\n",
    "        self.dept_epm_count=dept_epm_count\n",
    "        self.location=location\n",
    "   \n",
    "    def disp(self):\n",
    "        #printing munst always come with the SELF\n",
    "        print(self.name,self.dept_epm_count,self.location)\n",
    "\n",
    "#display instace variable \n",
    "Maint=department(\"mainteance \", 30 ,\"bay-1\")\n",
    "Maint.disp()\n",
    "Prod=department(\"Production \",100, \"bay-11\")\n",
    "Prod.disp()\n",
    "#dispaly class variable \n",
    "department.monthly_exp\n"
   ]
  },
  {
   "cell_type": "code",
   "execution_count": null,
   "metadata": {},
   "outputs": [],
   "source": []
  },
  {
   "cell_type": "markdown",
   "metadata": {},
   "source": [
    "# Main function "
   ]
  },
  {
   "cell_type": "code",
   "execution_count": 13,
   "metadata": {},
   "outputs": [],
   "source": [
    "class friends ():\n",
    "           \n",
    "    def __init__(self,name,place,year):\n",
    "        self.name=name\n",
    "        self.place=place\n",
    "        self.year=year\n",
    "    \n",
    "    def getdata (self,name,place,year):\n",
    "        print(\"get data method called\")\n",
    "        self.name=name\n",
    "        self.place=place\n",
    "        self.year=year\n",
    "# getdata will try to assign new values to  exixting variable but can not create new instance         \n",
    "        \n",
    "    def display (self):\n",
    "        print(\"friends details are\",self.name , self.place,self.year )\n",
    "        \n",
    "def main():\n",
    "    f1=friends(\"Mridul\",\"BBSr\",2013)\n",
    "    f1.display()\n",
    "    f2=friends(\"shuvam\",\"BBSR\",2013)\n",
    "    f2.display()\n",
    "\n",
    "    \n",
    "    f1.getdata(\"sus\",\"sng\",2000)\n",
    "    f1.display()\n",
    "\n",
    "    \n",
    "    print (\">>>>>>>>>>>>>>>>>>>>>>>>>>>>>>>>>>>>>>>>>>>>>>>>>>>>>>>>>>>>.>>>>>>>>>\")\n",
    "    print( f1.display(),f2.display())\n"
   ]
  },
  {
   "cell_type": "code",
   "execution_count": 14,
   "metadata": {},
   "outputs": [
    {
     "name": "stdout",
     "output_type": "stream",
     "text": [
      "friends details are Mridul BBSr 2013\n",
      "friends details are shuvam BBSR 2013\n",
      "get data method called\n",
      "friends details are sus sng 2000\n",
      ">>>>>>>>>>>>>>>>>>>>>>>>>>>>>>>>>>>>>>>>>>>>>>>>>>>>>>>>>>>>.>>>>>>>>>\n",
      "friends details are sus sng 2000\n",
      "friends details are shuvam BBSR 2013\n",
      "None None\n"
     ]
    }
   ],
   "source": [
    "if __name__==\"__main__\":\n",
    "    main()"
   ]
  },
  {
   "cell_type": "markdown",
   "metadata": {},
   "source": [
    "# >>>>>>>>>>>>>>>>>>>>>>>>>>>>>>>>>>>>>>>>>>>>>>>>>>>>>>>>>>>>"
   ]
  },
  {
   "cell_type": "markdown",
   "metadata": {},
   "source": [
    "## using user input in class "
   ]
  },
  {
   "cell_type": "code",
   "execution_count": 15,
   "metadata": {},
   "outputs": [],
   "source": [
    "class games():\n",
    "    \n",
    "    def __init__(self , name,time,player_count ):\n",
    "        self.name=name\n",
    "        self.time=time \n",
    "        self.count=player_count \n",
    "        \n",
    "    def getdata (self,name,time,player_count ):\n",
    "        print(\"get data method called\")\n",
    "        self.name=name\n",
    "        self.time=time \n",
    "        self.count=player_count     \n",
    "        \n",
    "    def display(self):\n",
    "        print (self.name,self.time,self.count)\n",
    "        "
   ]
  },
  {
   "cell_type": "code",
   "execution_count": 16,
   "metadata": {},
   "outputs": [],
   "source": [
    "def main ():\n",
    "    g1=games(input (\"game_name-\"),int(input (\"time-\")),int(input(\"count-\")))\n",
    "    g1.display()\n",
    "          # the above bracket () withdisplay is causing the output to be printed in a row  .  \n",
    "    g2=games(input (\"game_name-\"),int(input (\"time-\")),int(input(\"count-\")))\n",
    "    g2.display \n",
    "          #removing the bracket () will not print the value .\n",
    "        \n",
    "    print (\">>>>>>>>>>>>>>>>>>>>>>>\"*2)\n",
    "    g1.getdata(\"4\",4,4)\n",
    "    g1.display()\n",
    "    "
   ]
  },
  {
   "cell_type": "code",
   "execution_count": 17,
   "metadata": {
    "scrolled": true
   },
   "outputs": [
    {
     "name": "stdout",
     "output_type": "stream",
     "text": [
      "game_name-1\n",
      "time-1\n",
      "count-1\n",
      "1 1 1\n",
      "game_name-1\n",
      "time-1\n",
      "count-1\n",
      ">>>>>>>>>>>>>>>>>>>>>>>>>>>>>>>>>>>>>>>>>>>>>>\n",
      "get data method called\n",
      "4 4 4\n"
     ]
    }
   ],
   "source": [
    "if __name__==\"__main__\":\n",
    "    main()"
   ]
  },
  {
   "cell_type": "markdown",
   "metadata": {},
   "source": [
    "# >>>>>>>>>>>>>>>>>>>>>>>>>>>>>>>>>>>>>>>>>>>>>>>>>>>>>>>>>>>>"
   ]
  },
  {
   "cell_type": "markdown",
   "metadata": {},
   "source": [
    "# practice session 1962021"
   ]
  },
  {
   "cell_type": "markdown",
   "metadata": {},
   "source": [
    "class variable and instance variable "
   ]
  },
  {
   "cell_type": "code",
   "execution_count": 18,
   "metadata": {},
   "outputs": [
    {
     "data": {
      "text/plain": [
       "2021"
      ]
     },
     "execution_count": 18,
     "metadata": {},
     "output_type": "execute_result"
    }
   ],
   "source": [
    "\n",
    "class student():\n",
    "    curr_year=2021  # current year is class variable \n",
    "    def __init__(self ,name,place,yob):\n",
    "        self.name=name  # self is an instance of class\n",
    "        self.place=place \n",
    "        self.yob=yob\n",
    "    \n",
    "    def getdata (self ,name,place,yob):\n",
    "        print(\"get data method called\")\n",
    "        self.name=name \n",
    "        self.place=place \n",
    "        self.yob=yob     \n",
    "      \n",
    "        \n",
    "    def age (self):\n",
    "        print (self.name,\"is \",2021-self.yob,\"year old\")\n",
    "        \n",
    "           \n",
    "    def display(self):\n",
    "        print(self.name ,self.place,self.yob)\n",
    "        \n",
    "# class can be used to store the member data and fhunctions     \n",
    "student.curr_year\n",
    "# calss variable can be called directly\n",
    "#they can be called as class.variable \n",
    "    "
   ]
  },
  {
   "cell_type": "code",
   "execution_count": null,
   "metadata": {},
   "outputs": [],
   "source": []
  },
  {
   "cell_type": "code",
   "execution_count": 19,
   "metadata": {},
   "outputs": [],
   "source": [
    "def main():\n",
    "        amit=student(\"amit\",\"bbsr\",1995)  \n",
    "        amit.display ()\n",
    "        amit.age()\n",
    "        \n",
    "        #here objects are being created\n",
    "    \n",
    "        ajit=student(\"ajit\",\"sng\",1999)\n",
    "        ajit.display()\n",
    "        ajit.age()\n",
    "        \n",
    "        sanjeet=student(\"sanjeet\",\"sng\",2001)\n",
    "        sanjeet.age()\n",
    "        \n",
    "\n",
    "#in main we can  save the instances and th desires outputs  using the functondefined in class "
   ]
  },
  {
   "cell_type": "code",
   "execution_count": 20,
   "metadata": {},
   "outputs": [
    {
     "name": "stdout",
     "output_type": "stream",
     "text": [
      "amit bbsr 1995\n",
      "amit is  26 year old\n",
      "ajit sng 1999\n",
      "ajit is  22 year old\n",
      "sanjeet is  20 year old\n"
     ]
    }
   ],
   "source": [
    "# main only prints the details  given at the intiation stage .\n",
    "if __name__==\"__main__\":\n",
    "    main()"
   ]
  },
  {
   "cell_type": "markdown",
   "metadata": {},
   "source": [
    "# PS 21072021"
   ]
  },
  {
   "cell_type": "code",
   "execution_count": 21,
   "metadata": {},
   "outputs": [
    {
     "name": "stdout",
     "output_type": "stream",
     "text": [
      "300\n"
     ]
    }
   ],
   "source": [
    "class shape():\n",
    "    def __init__(self,name,side,length):\n",
    "        self.name=name  #name ,side ,length are instance variable \n",
    "        self.sides=side\n",
    "        self.length=length\n",
    "        \n",
    "    def perimeter(self):\n",
    "        peri=self.sides*self.length\n",
    "        print(peri)\n",
    "        return (peri)\n",
    "        \n",
    "    \n",
    "def main():  #main is an inbuilt function \n",
    "    hex=shape(\"hex\",6,50)\n",
    "    hex.perimeter()\n",
    "    \n",
    "if __name__==\"__main__\":\n",
    "    main()\n",
    "    "
   ]
  },
  {
   "cell_type": "code",
   "execution_count": 22,
   "metadata": {},
   "outputs": [
    {
     "name": "stdout",
     "output_type": "stream",
     "text": [
      "300\n"
     ]
    }
   ],
   "source": [
    "main()\n"
   ]
  },
  {
   "cell_type": "markdown",
   "metadata": {},
   "source": [
    "# >>>>>>>>>>>>>>>>>>>>>>>>>>>>>>>>>>>>>>>>>>>>>>>>>>>>>>>>"
   ]
  },
  {
   "cell_type": "code",
   "execution_count": 23,
   "metadata": {},
   "outputs": [
    {
     "name": "stdout",
     "output_type": "stream",
     "text": [
      "16 is the sq of  4\n",
      "256 is the value if  4 is powered by 4\n"
     ]
    }
   ],
   "source": [
    "class numbers():\n",
    "    \n",
    "    def __init__ (self, number,sq,power):\n",
    "        self.number=number\n",
    "        self.sq=sq\n",
    "        self.power=power\n",
    "    \n",
    "    def allsq(self):\n",
    "        print(self.number*self.number , \"is the sq of \",self.number )\n",
    "        \n",
    "    def allpow(self):\n",
    "        print(self.number**self.power,\"is the value if \",self.number,\"is powered by\",self.power)\n",
    "    \n",
    "def main():\n",
    "    num1=numbers(4,4,4)\n",
    "    num1.allsq()\n",
    "    num1.allpow()\n",
    "\n",
    "if __name__==\"__main__\":\n",
    "    main()\n",
    "        \n",
    "        \n",
    "            "
   ]
  },
  {
   "cell_type": "code",
   "execution_count": 24,
   "metadata": {},
   "outputs": [
    {
     "name": "stdout",
     "output_type": "stream",
     "text": [
      "36 is the multiplied value of  4\n",
      "1 is the value if  4 is powered by 8\n",
      "4 is the value if  4 is powered by 8\n",
      "16 is the value if  4 is powered by 8\n",
      "64 is the value if  4 is powered by 8\n",
      "256 is the value if  4 is powered by 8\n",
      "1024 is the value if  4 is powered by 8\n",
      "4096 is the value if  4 is powered by 8\n",
      "25 is the multiplied value of  5\n",
      "1 is the value if  5 is powered by 6\n",
      "5 is the value if  5 is powered by 6\n",
      "25 is the value if  5 is powered by 6\n",
      "125 is the value if  5 is powered by 6\n",
      "625 is the value if  5 is powered by 6\n",
      "3125 is the value if  5 is powered by 6\n",
      "15625 is the value if  5 is powered by 6\n"
     ]
    }
   ],
   "source": [
    "class numberss():\n",
    "    \n",
    "    \n",
    "    def __init__ (self, number,multiple,power):\n",
    "        self.number=number\n",
    "        self.multiple=multiple\n",
    "        self.power=power\n",
    "        \n",
    "    \n",
    "    def allsq(self):\n",
    "        print(self.number*self.multiple , \"is the multiplied value of \",self.number  )\n",
    "        \n",
    "    def allpow(self):\n",
    "        num=[1,2,3,4,5,6,7]\n",
    "        for i in range (len(num)):\n",
    "            print(self.number**i ,\"is the value if \",self.number,\"is powered by\",self.power)\n",
    "    \n",
    "    \n",
    "    \n",
    "def main():\n",
    "    num1=numberss(4,9,8)\n",
    "    num1.allsq()\n",
    "    num1.allpow()\n",
    "    \n",
    "    num1=numberss(5,5,6)\n",
    "    num1.allsq()\n",
    "    num1.allpow()\n",
    "\n",
    "\n",
    "if __name__==\"__main__\":\n",
    "    main()\n",
    "        \n",
    "        "
   ]
  },
  {
   "cell_type": "markdown",
   "metadata": {},
   "source": [
    "# PS 22072021"
   ]
  },
  {
   "cell_type": "code",
   "execution_count": 51,
   "metadata": {},
   "outputs": [
    {
     "name": "stdout",
     "output_type": "stream",
     "text": [
      "sumit is the name \n",
      "26 is his age \n",
      "41000\n"
     ]
    }
   ],
   "source": [
    "class employi():\n",
    "    sal_hike=5000\n",
    "    \n",
    "    def __init__(self,name,age,basic,exp):\n",
    "        self.name=name\n",
    "        self.age=age\n",
    "        self.exp=exp\n",
    "        self.basic=basic\n",
    "        \n",
    "    def emp_detail(self):\n",
    "        print(self.name ,\"is the name \")\n",
    "        print(self.age, \"is his age \")\n",
    "        salary=int((self.basic)+(self.exp)*(employi.sal_hike))\n",
    "        print (salary)\n",
    "        \n",
    "def main():\n",
    "    emp11=employi(\"sumit\",26,26000,3)\n",
    "    emp11.emp_detail()\n",
    "        \n",
    "if __name__==\"__main__\":\n",
    "       main()"
   ]
  },
  {
   "cell_type": "code",
   "execution_count": null,
   "metadata": {},
   "outputs": [],
   "source": []
  },
  {
   "cell_type": "code",
   "execution_count": null,
   "metadata": {},
   "outputs": [],
   "source": []
  },
  {
   "cell_type": "code",
   "execution_count": null,
   "metadata": {},
   "outputs": [],
   "source": []
  },
  {
   "cell_type": "code",
   "execution_count": null,
   "metadata": {},
   "outputs": [],
   "source": []
  },
  {
   "cell_type": "code",
   "execution_count": 30,
   "metadata": {},
   "outputs": [
    {
     "data": {
      "text/plain": [
       "2021"
      ]
     },
     "execution_count": 30,
     "metadata": {},
     "output_type": "execute_result"
    }
   ],
   "source": [
    "\n",
    "class student():\n",
    "    curr_year=2021  # current year is class variable \n",
    "    def __init__(self ,name,place,yob):\n",
    "        self.name=name  # self is an instance of class\n",
    "        self.place=place \n",
    "        self.yob=yob\n",
    "    \n",
    "    def getdata (self ,name,place,yob):\n",
    "        print(\"get data method called\")\n",
    "        self.name=name \n",
    "        self.place=place \n",
    "        self.yob=yob     \n",
    "      \n",
    "        \n",
    "    def age (self):\n",
    "        print (self.name,\"is \",2021-self.yob,\"year old\")\n",
    "        \n",
    "           \n",
    "    def display(self):\n",
    "        print(self.name ,self.place,self.yob)\n",
    "        \n",
    "# class can be used to store the member data and fhunctions     \n",
    "student.curr_year\n",
    "# calss variable can be called directly\n",
    "#they can be called as class.variable "
   ]
  },
  {
   "cell_type": "code",
   "execution_count": 31,
   "metadata": {},
   "outputs": [
    {
     "name": "stdout",
     "output_type": "stream",
     "text": [
      "36 is the multiplied value of  4\n",
      "1 is the value if  4 is powered by 8\n",
      "4 is the value if  4 is powered by 8\n",
      "16 is the value if  4 is powered by 8\n",
      "64 is the value if  4 is powered by 8\n",
      "256 is the value if  4 is powered by 8\n",
      "1024 is the value if  4 is powered by 8\n",
      "4096 is the value if  4 is powered by 8\n",
      "25 is the multiplied value of  5\n",
      "1 is the value if  5 is powered by 6\n",
      "5 is the value if  5 is powered by 6\n",
      "25 is the value if  5 is powered by 6\n",
      "125 is the value if  5 is powered by 6\n",
      "625 is the value if  5 is powered by 6\n",
      "3125 is the value if  5 is powered by 6\n",
      "15625 is the value if  5 is powered by 6\n"
     ]
    }
   ],
   "source": [
    "main()"
   ]
  },
  {
   "cell_type": "code",
   "execution_count": null,
   "metadata": {},
   "outputs": [],
   "source": []
  },
  {
   "cell_type": "code",
   "execution_count": null,
   "metadata": {},
   "outputs": [],
   "source": []
  },
  {
   "cell_type": "code",
   "execution_count": null,
   "metadata": {},
   "outputs": [],
   "source": []
  },
  {
   "cell_type": "code",
   "execution_count": null,
   "metadata": {},
   "outputs": [],
   "source": []
  },
  {
   "cell_type": "code",
   "execution_count": null,
   "metadata": {},
   "outputs": [],
   "source": []
  },
  {
   "cell_type": "code",
   "execution_count": null,
   "metadata": {},
   "outputs": [],
   "source": []
  },
  {
   "cell_type": "code",
   "execution_count": null,
   "metadata": {},
   "outputs": [],
   "source": []
  },
  {
   "cell_type": "code",
   "execution_count": null,
   "metadata": {},
   "outputs": [],
   "source": []
  },
  {
   "cell_type": "code",
   "execution_count": null,
   "metadata": {},
   "outputs": [],
   "source": []
  },
  {
   "cell_type": "code",
   "execution_count": null,
   "metadata": {},
   "outputs": [],
   "source": []
  },
  {
   "cell_type": "code",
   "execution_count": null,
   "metadata": {},
   "outputs": [],
   "source": []
  },
  {
   "cell_type": "code",
   "execution_count": null,
   "metadata": {},
   "outputs": [],
   "source": []
  },
  {
   "cell_type": "code",
   "execution_count": null,
   "metadata": {},
   "outputs": [],
   "source": []
  },
  {
   "cell_type": "code",
   "execution_count": null,
   "metadata": {},
   "outputs": [],
   "source": []
  },
  {
   "cell_type": "code",
   "execution_count": null,
   "metadata": {},
   "outputs": [],
   "source": []
  },
  {
   "cell_type": "code",
   "execution_count": null,
   "metadata": {},
   "outputs": [],
   "source": []
  },
  {
   "cell_type": "code",
   "execution_count": null,
   "metadata": {},
   "outputs": [],
   "source": []
  },
  {
   "cell_type": "code",
   "execution_count": null,
   "metadata": {},
   "outputs": [],
   "source": []
  },
  {
   "cell_type": "code",
   "execution_count": null,
   "metadata": {},
   "outputs": [],
   "source": []
  },
  {
   "cell_type": "code",
   "execution_count": null,
   "metadata": {},
   "outputs": [],
   "source": []
  },
  {
   "cell_type": "code",
   "execution_count": null,
   "metadata": {},
   "outputs": [],
   "source": []
  },
  {
   "cell_type": "code",
   "execution_count": null,
   "metadata": {},
   "outputs": [],
   "source": []
  },
  {
   "cell_type": "code",
   "execution_count": null,
   "metadata": {},
   "outputs": [],
   "source": []
  },
  {
   "cell_type": "code",
   "execution_count": null,
   "metadata": {},
   "outputs": [],
   "source": []
  },
  {
   "cell_type": "code",
   "execution_count": null,
   "metadata": {},
   "outputs": [],
   "source": []
  },
  {
   "cell_type": "code",
   "execution_count": null,
   "metadata": {},
   "outputs": [],
   "source": []
  },
  {
   "cell_type": "code",
   "execution_count": null,
   "metadata": {},
   "outputs": [],
   "source": []
  },
  {
   "cell_type": "code",
   "execution_count": null,
   "metadata": {},
   "outputs": [],
   "source": []
  },
  {
   "cell_type": "code",
   "execution_count": null,
   "metadata": {},
   "outputs": [],
   "source": []
  },
  {
   "cell_type": "code",
   "execution_count": null,
   "metadata": {},
   "outputs": [],
   "source": []
  },
  {
   "cell_type": "code",
   "execution_count": null,
   "metadata": {},
   "outputs": [],
   "source": []
  },
  {
   "cell_type": "code",
   "execution_count": null,
   "metadata": {},
   "outputs": [],
   "source": []
  },
  {
   "cell_type": "code",
   "execution_count": null,
   "metadata": {},
   "outputs": [],
   "source": []
  },
  {
   "cell_type": "code",
   "execution_count": null,
   "metadata": {},
   "outputs": [],
   "source": []
  },
  {
   "cell_type": "code",
   "execution_count": null,
   "metadata": {},
   "outputs": [],
   "source": [
    "1\n",
    "\n",
    "\n"
   ]
  }
 ],
 "metadata": {
  "kernelspec": {
   "display_name": "Python 3",
   "language": "python",
   "name": "python3"
  },
  "language_info": {
   "codemirror_mode": {
    "name": "ipython",
    "version": 3
   },
   "file_extension": ".py",
   "mimetype": "text/x-python",
   "name": "python",
   "nbconvert_exporter": "python",
   "pygments_lexer": "ipython3",
   "version": "3.8.5"
  }
 },
 "nbformat": 4,
 "nbformat_minor": 4
}
