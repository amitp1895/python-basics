{
 "cells": [
  {
   "cell_type": "code",
   "execution_count": 1,
   "metadata": {
    "scrolled": true
   },
   "outputs": [],
   "source": [
    "a=3\n",
    "b=1\n",
    "c=3\n",
    "if a==b:\n",
    "    print ('A wins')\n",
    "elif a>=c :\n",
    "    print ('c wins')\n",
    "else:\n",
    "    print ('all lost')\n"
   ]
  },
  {
   "cell_type": "code",
   "execution_count": 2,
   "metadata": {},
   "outputs": [
    {
     "name": "stdout",
     "output_type": "stream",
     "text": [
      "enter the number 8\n",
      "number is even \n"
     ]
    }
   ],
   "source": [
    "k=int(input(\"enter the number \"))\n",
    "if (k%2==0) :\n",
    "    print ('number is even ')\n",
    "else :\n",
    "    print( \"its an odd number \")"
   ]
  },
  {
   "cell_type": "code",
   "execution_count": 3,
   "metadata": {},
   "outputs": [
    {
     "name": "stdout",
     "output_type": "stream",
     "text": [
      "enter the number 5\n"
     ]
    }
   ],
   "source": [
    "marks =int(input(\"enter the number \"))\n",
    "if (marks>=80) :\n",
    "    print ('Excellent ')\n",
    "elif (marks>=40):\n",
    "    print( \"its an even number \")"
   ]
  },
  {
   "cell_type": "markdown",
   "metadata": {},
   "source": [
    "# Nested If "
   ]
  },
  {
   "cell_type": "code",
   "execution_count": 4,
   "metadata": {},
   "outputs": [
    {
     "name": "stdout",
     "output_type": "stream",
     "text": [
      " enter the number 5\n"
     ]
    }
   ],
   "source": [
    "x=int (input (\" enter the number \"))"
   ]
  },
  {
   "cell_type": "code",
   "execution_count": 5,
   "metadata": {},
   "outputs": [
    {
     "name": "stdout",
     "output_type": "stream",
     "text": [
      " the number is odd\n"
     ]
    }
   ],
   "source": [
    "if x%2==0:\n",
    "    print ( \"the number is even and \" , end=\"\" )\n",
    "    if x>5:\n",
    "        print (\"greater than 5 \" )\n",
    "    else:\n",
    "        print( \"less than 5\")\n",
    "else :\n",
    "    print (\" the number is odd\")"
   ]
  },
  {
   "cell_type": "markdown",
   "metadata": {},
   "source": [
    "# Nested if in for loop"
   ]
  },
  {
   "cell_type": "code",
   "execution_count": 17,
   "metadata": {},
   "outputs": [
    {
     "name": "stdout",
     "output_type": "stream",
     "text": [
      "10 is even number \n",
      "11 is an odd number \n",
      "12 is even number \n",
      "13 is an odd number \n",
      "14 is even number \n",
      "15 is an odd number \n",
      "16 is even number \n",
      "17 is an odd number \n",
      "18 is even number \n",
      "18 is your lucky number  \n",
      "19 is an odd number \n",
      "20 is even number \n"
     ]
    }
   ],
   "source": [
    "amit=range(10,21)\n",
    "for i in amit:\n",
    "    if i%2 ==0:\n",
    "        print ( i,\"is even number \"  )\n",
    "        if i==18:\n",
    "            print (i, \"is your lucky number  \")\n",
    "            \n",
    "    else:\n",
    "        print (i,\"is an odd number \")    \n",
    "    "
   ]
  },
  {
   "cell_type": "code",
   "execution_count": null,
   "metadata": {},
   "outputs": [],
   "source": []
  },
  {
   "cell_type": "code",
   "execution_count": 16,
   "metadata": {},
   "outputs": [
    {
     "name": "stdout",
     "output_type": "stream",
     "text": [
      "type the number10\n",
      "10 is even number \n",
      "11 is an odd number \n",
      "12 is even number \n",
      "13 is an odd number \n",
      "14 is even number \n",
      "15 is an odd number \n",
      "16 is even number \n",
      "17 is an odd number \n",
      "18 is even number \n",
      "19 is an odd number \n",
      "20 is even number \n"
     ]
    }
   ],
   "source": [
    "amit=range(10,21)\n",
    "lucky =int(input(\"type the number\"))\n",
    "for i in amit:\n",
    "    if i%2==0  :\n",
    "        print ( i,\"is even number \"  )\n",
    "    elif i%2 !=0 and i!=lucky :\n",
    "        print (i, \"is an odd number \")\n",
    "    \n",
    "\n",
    "\n",
    "    "
   ]
  },
  {
   "cell_type": "code",
   "execution_count": 14,
   "metadata": {},
   "outputs": [
    {
     "name": "stdout",
     "output_type": "stream",
     "text": [
      "4 20\n",
      "3 20\n",
      "2 20\n",
      "1 20\n",
      "0 20\n"
     ]
    }
   ],
   "source": [
    "for j in reversed(range(5)):\n",
    "    print (j , i)"
   ]
  },
  {
   "cell_type": "markdown",
   "metadata": {},
   "source": [
    "lucky number"
   ]
  },
  {
   "cell_type": "code",
   "execution_count": 21,
   "metadata": {},
   "outputs": [
    {
     "name": "stdout",
     "output_type": "stream",
     "text": [
      "0 is even\n",
      "1 is odd\n",
      "2 is even\n",
      "3 is odd\n",
      "4 is even\n",
      "5 is odd\n",
      "6 is even\n",
      "7 is odd\n",
      "8 is even\n",
      "9 is odd\n",
      "10 is even\n",
      "11 is odd\n",
      "12 is even\n",
      "13 is odd\n",
      "14 is even\n",
      "15 is odd\n",
      "16 is even\n",
      "17 is odd\n",
      "18 is the lucky number \n",
      "19 is odd\n",
      "20 is even\n"
     ]
    }
   ],
   "source": [
    "x=18\n",
    "i=0\n",
    "while i <=20:\n",
    "    if x==i:\n",
    "        print(i ,\"is the lucky number \")\n",
    "    elif i%2==0:\n",
    "            print (i , \"is even\")\n",
    "    else :\n",
    "        print (i,\"is odd\")\n",
    "    i+=1\n"
   ]
  },
  {
   "cell_type": "code",
   "execution_count": null,
   "metadata": {},
   "outputs": [],
   "source": []
  },
  {
   "cell_type": "code",
   "execution_count": null,
   "metadata": {},
   "outputs": [],
   "source": []
  },
  {
   "cell_type": "code",
   "execution_count": null,
   "metadata": {},
   "outputs": [],
   "source": []
  },
  {
   "cell_type": "code",
   "execution_count": null,
   "metadata": {},
   "outputs": [],
   "source": []
  },
  {
   "cell_type": "code",
   "execution_count": null,
   "metadata": {},
   "outputs": [],
   "source": []
  },
  {
   "cell_type": "code",
   "execution_count": null,
   "metadata": {},
   "outputs": [],
   "source": []
  },
  {
   "cell_type": "code",
   "execution_count": null,
   "metadata": {},
   "outputs": [],
   "source": []
  },
  {
   "cell_type": "code",
   "execution_count": null,
   "metadata": {},
   "outputs": [],
   "source": []
  },
  {
   "cell_type": "code",
   "execution_count": null,
   "metadata": {},
   "outputs": [],
   "source": []
  },
  {
   "cell_type": "code",
   "execution_count": null,
   "metadata": {},
   "outputs": [],
   "source": []
  },
  {
   "cell_type": "code",
   "execution_count": null,
   "metadata": {},
   "outputs": [],
   "source": []
  }
 ],
 "metadata": {
  "kernelspec": {
   "display_name": "Python 3",
   "language": "python",
   "name": "python3"
  },
  "language_info": {
   "codemirror_mode": {
    "name": "ipython",
    "version": 3
   },
   "file_extension": ".py",
   "mimetype": "text/x-python",
   "name": "python",
   "nbconvert_exporter": "python",
   "pygments_lexer": "ipython3",
   "version": "3.8.5"
  }
 },
 "nbformat": 4,
 "nbformat_minor": 4
}
